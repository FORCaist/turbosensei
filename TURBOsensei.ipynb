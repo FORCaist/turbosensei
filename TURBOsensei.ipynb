{
 "cells": [
  {
   "cell_type": "markdown",
   "metadata": {},
   "source": [
    "<hr style=\"height:3px;border:none;color:#333;background-color:#333;\" />\n",
    "\n",
    "# Welcome to FORCsensei\n",
    "\n",
    "If you are unfamiliar with *Jupyter* Notebooks you can watch our <a href=\"https://youtu.be/qJ7x1fgyDAI\" target=\"_blank\"> tutorial video</a>, which will get you started.\n",
    "\n",
    "## Running FORCsensei\n",
    "\n",
    "The most recent version of *FORCsensei* has been built into this *Jupyter* notebook.\n",
    "\n",
    "If you have any issues with *FORCsensei* please send an email to FORCaist.user@gmail.com and we will provide support as soon as possible."
   ]
  },
  {
   "cell_type": "markdown",
   "metadata": {},
   "source": [
    "<hr style=\"height:3px;border:none;color:#333;background-color:#333;\" />\n",
    "\n",
    "## Select a FORC data file\n",
    "Your FORC data file must be preloaded into your session (<a href=\"https://youtu.be/qJ7x1fgyDAI\" target=\"_blank\">tutorial video</a>). You can then execute the code cell below to select your data file."
   ]
  },
  {
   "cell_type": "code",
   "execution_count": null,
   "metadata": {},
   "outputs": [],
   "source": [
    "import new_forcsensei as fs\n",
    "f = fs.FileBrowser()\n",
    "f.widget()"
   ]
  },
  {
   "cell_type": "markdown",
   "metadata": {},
   "source": [
    "<hr style=\"height:3px;border:none;color:#333;background-color:#333;\" />\n",
    "\n",
    "## Data preprocessing options\n",
    "**In this section you can set preprocessing options for your measurement data.**\n",
    "\n",
    "Execute the cell below and then set your preprocessing options. Individual preprocessing options are explained in the video tutorial."
   ]
  },
  {
   "cell_type": "code",
   "execution_count": null,
   "metadata": {},
   "outputs": [],
   "source": [
    "if ('X' in locals()) == False:\n",
    "    X = {}     \n",
    "X[\"fn\"] = f.path\n",
    "X = fs.preprocessing_options(X)"
   ]
  },
  {
   "cell_type": "markdown",
   "metadata": {},
   "source": [
    "<hr style=\"height:3px;border:none;color:#333;background-color:#333;\" />\n",
    "\n",
    "## Data preprocessing\n",
    "\n",
    "Once you have selected your preprocessing options you can execute the code cell below, which will perform the preprocessing. \n",
    "\n",
    "Plots of your data will appear and will be automatically saved into your session ready for download (<a href=\"https://youtu.be/qJ7x1fgyDAI\" target=\"_blank\">tutorial video</a>)."
   ]
  },
  {
   "cell_type": "code",
   "execution_count": null,
   "metadata": {},
   "outputs": [],
   "source": [
    "X = fs.data_preprocessing(X)"
   ]
  },
  {
   "cell_type": "markdown",
   "metadata": {},
   "source": [
    "<hr style=\"height:3px;border:none;color:#333;background-color:#333;\" />\n",
    "\n",
    "\n",
    "## FORC model options\n",
    "In this section you can set the ensemble of VARIFORC options for your FORC analysis.\n",
    "\n",
    "Execute **```X = fs.model_options(X)```** to set your ensemble of VARIFORC options (<a href=\"https://www.sciencedirect.com/science/article/pii/S0921818113001744\" target=\"_blank\">Egli 2013</a>).\n",
    "\n",
    "You can also downsample the data and use DASK to speed up processing."
   ]
  },
  {
   "cell_type": "code",
   "execution_count": null,
   "metadata": {},
   "outputs": [],
   "source": [
    "X = fs.model_options(X)"
   ]
  },
  {
   "cell_type": "markdown",
   "metadata": {},
   "source": [
    "<hr style=\"height:3px;border:none;color:#333;background-color:#333;\" />\n",
    "\n",
    "## Calculate FORC model\n",
    "The cell below will calculate $\\lambda$ for each VARIFORC model.\n",
    "\n",
    "You can monitor progress via the DASK Dashboard: http://localhost:8787/status"
   ]
  },
  {
   "cell_type": "code",
   "execution_count": null,
   "metadata": {},
   "outputs": [],
   "source": [
    "X = fs.calculate_model(X)"
   ]
  },
  {
   "cell_type": "markdown",
   "metadata": {},
   "source": [
    "<hr style=\"height:3px;border:none;color:#333;background-color:#333;\" />\n",
    "\n",
    "## Plot the optimal FORC distribution\n",
    "The cell below creates an interactive plot of your FORC distribution.\n",
    "\n",
    "You can save the plot to your local session for download (<a href=\"https://youtu.be/qJ7x1fgyDAI\" target=\"_blank\">tutorial video</a>)."
   ]
  },
  {
   "cell_type": "code",
   "execution_count": null,
   "metadata": {},
   "outputs": [],
   "source": [
    "fs.FORC_plot(X);"
   ]
  },
  {
   "cell_type": "markdown",
   "metadata": {},
   "source": [
    "<hr style=\"height:3px;border:none;color:#333;background-color:#333;\" />\n",
    "\n",
    "## Setup FORC profiles\n",
    "Execution of the cell below will open an option menu for plotting vertical and horizontal FORC profiles. "
   ]
  },
  {
   "cell_type": "code",
   "execution_count": null,
   "metadata": {},
   "outputs": [],
   "source": [
    "X = fs.profile_options(X)"
   ]
  },
  {
   "cell_type": "markdown",
   "metadata": {},
   "source": [
    "<hr style=\"height:3px;border:none;color:#333;background-color:#333;\" />\n",
    "\n",
    "## Plot FORC profiles\n",
    "Execute the cell below to create profile plots based on the options defined above. \n",
    "\n",
    "Profile plots will be saved to your local session for download (<a href=\"https://youtu.be/qJ7x1fgyDAI\" target=\"_blank\">tutorial video</a>)."
   ]
  },
  {
   "cell_type": "code",
   "execution_count": null,
   "metadata": {},
   "outputs": [],
   "source": [
    "X = fs.profile_plot(X)"
   ]
  },
  {
   "cell_type": "markdown",
   "metadata": {},
   "source": [
    "<hr style=\"height:3px;border:none;color:#333;background-color:#333;\" />"
   ]
  }
 ],
 "metadata": {
  "kernelspec": {
   "display_name": "Python 3",
   "language": "python",
   "name": "python3"
  },
  "language_info": {
   "codemirror_mode": {
    "name": "ipython",
    "version": 3
   },
   "file_extension": ".py",
   "mimetype": "text/x-python",
   "name": "python",
   "nbconvert_exporter": "python",
   "pygments_lexer": "ipython3",
   "version": "3.6.6"
  }
 },
 "nbformat": 4,
 "nbformat_minor": 2
}
