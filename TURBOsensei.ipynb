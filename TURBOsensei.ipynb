{
 "cells": [
  {
   "cell_type": "markdown",
   "metadata": {},
   "source": [
    "<hr style=\"height:3px;border:none;color:#333;background-color:#333;\" />\n",
    "\n",
    "# Welcome to FORCsensei\n",
    "\n",
    "The most recent version of *FORCsensei* has been built into this *Jupyter* notebook.\n",
    "\n",
    "If you have any issues with *FORCsensei* please send an email to FORCaist.user@gmail.com and we will provide support as soon as possible.\n",
    "\n",
    "<hr style=\"height:3px;border:none;color:#333;background-color:#333;\" />\n",
    "\n",
    "## Select a FORC data file\n",
    "Your FORC data file must be preloaded onto the cloud (<a href=\"https://youtu.be/qJ7x1fgyDAI\" target=\"_blank\">tutorial video</a>). Click the ```Select``` button to select your data file."
   ]
  },
  {
   "cell_type": "code",
   "execution_count": 1,
   "metadata": {},
   "outputs": [],
   "source": [
    "import turbosensei as fs"
   ]
  },
  {
   "cell_type": "code",
   "execution_count": 2,
   "metadata": {},
   "outputs": [
    {
     "data": {
      "application/vnd.jupyter.widget-view+json": {
       "model_id": "80f10cdd9a624eaf959497def53518ed",
       "version_major": 2,
       "version_minor": 0
      },
      "text/plain": [
       "FileChooser(path='/Users/dave/Documents/Japan 2018/module tests/binder app', filename='', show_hidden='False')"
      ]
     },
     "metadata": {},
     "output_type": "display_data"
    }
   ],
   "source": [
    "X = {'fc':fs.load.FORCfile()}"
   ]
  },
  {
   "cell_type": "markdown",
   "metadata": {},
   "source": [
    "<hr style=\"height:3px;border:none;color:#333;background-color:#333;\" />\n",
    "\n",
    "## Import your data file\n",
    "Click the ```Import Data``` button to load your data into *FORCsensei*."
   ]
  },
  {
   "cell_type": "code",
   "execution_count": null,
   "metadata": {},
   "outputs": [],
   "source": [
    "ini = fs.buttons.LoadedButton(description=\"Import Data\", value=X)\n",
    "ini.on_click(fs.buttons.ini)\n",
    "display(ini)"
   ]
  },
  {
   "cell_type": "markdown",
   "metadata": {},
   "source": [
    "<hr style=\"height:3px;border:none;color:#333;background-color:#333;\" />\n",
    "\n",
    "## Select preprocessing options\n",
    "Click the ```Preprocessing options``` button to open the *FORCsensei* data proprocessing menu."
   ]
  },
  {
   "cell_type": "code",
   "execution_count": null,
   "metadata": {},
   "outputs": [],
   "source": [
    "po = fs.buttons.LoadedButton(description=\"Preprocessing options\", value=X)\n",
    "po.on_click(fs.buttons.ppo)\n",
    "display(po)\n",
    "X = po.value"
   ]
  },
  {
   "cell_type": "markdown",
   "metadata": {},
   "source": [
    "<hr style=\"height:3px;border:none;color:#333;background-color:#333;\" />\n",
    "\n",
    "## Perform preprocessing\n",
    "Click the ```Preprocess data``` button to perform the proprocessing options selected above."
   ]
  },
  {
   "cell_type": "code",
   "execution_count": null,
   "metadata": {},
   "outputs": [],
   "source": [
    "pe = fs.buttons.LoadedButton(description=\"Preprocess data\", value=X)\n",
    "pe.on_click(fs.buttons.ppe)\n",
    "display(pe)\n",
    "X = pe.value"
   ]
  },
  {
   "cell_type": "markdown",
   "metadata": {},
   "source": [
    "<hr style=\"height:3px;border:none;color:#333;background-color:#333;\" />\n",
    "\n",
    "## Model options\n",
    "Click the ```Model options``` button to open the *FORCsensei* data processing menu."
   ]
  },
  {
   "cell_type": "code",
   "execution_count": null,
   "metadata": {},
   "outputs": [],
   "source": [
    "ro = fs.buttons.LoadedButton(description=\"Model options\", value=X)\n",
    "ro.on_click(fs.buttons.ro)\n",
    "display(ro)\n",
    "X = ro.value"
   ]
  },
  {
   "cell_type": "markdown",
   "metadata": {},
   "source": [
    "<hr style=\"height:3px;border:none;color:#333;background-color:#333;\" />\n",
    "\n",
    "## Compare models\n",
    "Click the ```Compare models``` button to perform regression model selection."
   ]
  },
  {
   "cell_type": "code",
   "execution_count": null,
   "metadata": {},
   "outputs": [],
   "source": [
    "rc = fs.buttons.LoadedButton(description=\"Compare models\", value=X)\n",
    "rc.on_click(fs.buttons.rc)\n",
    "display(rc)\n",
    "X = rc.value"
   ]
  },
  {
   "cell_type": "markdown",
   "metadata": {},
   "source": [
    "<hr style=\"height:3px;border:none;color:#333;background-color:#333;\" />\n",
    "\n",
    "## Calculate final model\n",
    "Click the ```Calculate final model``` button to build the final regression model."
   ]
  },
  {
   "cell_type": "code",
   "execution_count": null,
   "metadata": {},
   "outputs": [],
   "source": [
    "re = fs.buttons.LoadedButton(description=\"Calculate final model\", value=X)\n",
    "re.on_click(fs.buttons.re)\n",
    "display(re)\n",
    "X = re.value"
   ]
  },
  {
   "cell_type": "markdown",
   "metadata": {},
   "source": [
    "<hr style=\"height:3px;border:none;color:#333;background-color:#333;\" />\n",
    "\n",
    "## Plot final model\n",
    "Click the ```Plot final model``` button to open a interactive plot of the final FORC diagram."
   ]
  },
  {
   "cell_type": "code",
   "execution_count": null,
   "metadata": {},
   "outputs": [],
   "source": [
    "rf = fs.buttons.LoadedButton(description=\"Plot final model\", value=X)\n",
    "rf.on_click(fs.buttons.rf)\n",
    "display(rf)"
   ]
  },
  {
   "cell_type": "markdown",
   "metadata": {},
   "source": [
    "<hr style=\"height:3px;border:none;color:#333;background-color:#333;\" />\n",
    "\n",
    "## Configure profiles\n",
    "Click the ```Configure profiles``` button to open the menu for defining profile plot options."
   ]
  },
  {
   "cell_type": "code",
   "execution_count": null,
   "metadata": {},
   "outputs": [],
   "source": [
    "rpo = fs.buttons.LoadedButton(description=\"Configure profiles\", value=X)\n",
    "rpo.on_click(fs.buttons.rpo)\n",
    "display(rpo)\n",
    "#X = fs.results.profile_options(X)"
   ]
  },
  {
   "cell_type": "markdown",
   "metadata": {},
   "source": [
    "<hr style=\"height:3px;border:none;color:#333;background-color:#333;\" />\n",
    "\n",
    "## Plot profiles\n",
    "Click the ```Plot profiles``` button to plot the profile defined in the menu above."
   ]
  },
  {
   "cell_type": "code",
   "execution_count": null,
   "metadata": {},
   "outputs": [],
   "source": [
    "rpp = fs.buttons.LoadedButton(description=\"Plot profiles\", value=X)\n",
    "rpp.on_click(fs.buttons.rpp)\n",
    "display(rpp)\n",
    "#X = fs.results.profile_plot(X)"
   ]
  },
  {
   "cell_type": "markdown",
   "metadata": {},
   "source": [
    "<hr style=\"height:3px;border:none;color:#333;background-color:#333;\" />"
   ]
  }
 ],
 "metadata": {
  "kernelspec": {
   "display_name": "Python 3",
   "language": "python",
   "name": "python3"
  },
  "language_info": {
   "codemirror_mode": {
    "name": "ipython",
    "version": 3
   },
   "file_extension": ".py",
   "mimetype": "text/x-python",
   "name": "python",
   "nbconvert_exporter": "python",
   "pygments_lexer": "ipython3",
   "version": "3.6.6"
  }
 },
 "nbformat": 4,
 "nbformat_minor": 2
}
