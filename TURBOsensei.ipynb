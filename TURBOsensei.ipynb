{
 "cells": [
  {
   "cell_type": "code",
   "execution_count": null,
   "metadata": {},
   "outputs": [],
   "source": [
    "import turbosensei as fs"
   ]
  },
  {
   "cell_type": "code",
   "execution_count": null,
   "metadata": {},
   "outputs": [],
   "source": [
    "X = {'fc':fs.load.FORCfile()}"
   ]
  },
  {
   "cell_type": "code",
   "execution_count": null,
   "metadata": {},
   "outputs": [],
   "source": [
    "ini = fs.buttons.LoadedButton(description=\"Import Data\", value=X)\n",
    "ini.on_click(fs.buttons.ini)\n",
    "display(ini)"
   ]
  },
  {
   "cell_type": "code",
   "execution_count": null,
   "metadata": {},
   "outputs": [],
   "source": [
    "po = fs.buttons.LoadedButton(description=\"Preprocessing Options\", value=X)\n",
    "po.on_click(fs.buttons.ppo)\n",
    "display(po)\n",
    "X = po.value"
   ]
  },
  {
   "cell_type": "code",
   "execution_count": null,
   "metadata": {},
   "outputs": [],
   "source": [
    "#X = fs.preprocess.options(X)"
   ]
  },
  {
   "cell_type": "code",
   "execution_count": null,
   "metadata": {},
   "outputs": [],
   "source": [
    "pe = fs.buttons.LoadedButton(description=\"Preprocess Data\", value=X)\n",
    "pe.on_click(fs.buttons.ppe)\n",
    "display(pe)\n",
    "X = pe.value"
   ]
  },
  {
   "cell_type": "code",
   "execution_count": null,
   "metadata": {},
   "outputs": [],
   "source": [
    "ro = fs.buttons.LoadedButton(description=\"Model Options\", value=X)\n",
    "ro.on_click(fs.buttons.ro)\n",
    "display(ro)\n",
    "X = ro.value"
   ]
  },
  {
   "cell_type": "code",
   "execution_count": null,
   "metadata": {},
   "outputs": [],
   "source": [
    "rc = fs.buttons.LoadedButton(description=\"Compare models\", value=X)\n",
    "rc.on_click(fs.buttons.rc)\n",
    "display(rc)\n",
    "X = rc.value"
   ]
  },
  {
   "cell_type": "code",
   "execution_count": null,
   "metadata": {},
   "outputs": [],
   "source": [
    "re = fs.buttons.LoadedButton(description=\"Calculate final model\", value=X)\n",
    "re.on_click(fs.buttons.re)\n",
    "display(re)\n",
    "X = re.value"
   ]
  },
  {
   "cell_type": "code",
   "execution_count": null,
   "metadata": {},
   "outputs": [],
   "source": [
    "#def results_forc(ex):    \n",
    "#    fs.results.forc(ex.value)"
   ]
  },
  {
   "cell_type": "code",
   "execution_count": null,
   "metadata": {},
   "outputs": [],
   "source": [
    "rf = fs.buttons.LoadedButton(description=\"Plot final model\", value=X)\n",
    "rf.on_click(fs.buttons.rf)\n",
    "display(rf)"
   ]
  },
  {
   "cell_type": "code",
   "execution_count": null,
   "metadata": {},
   "outputs": [],
   "source": [
    "#def results_profile_options(ex):    \n",
    "#    fs.results.profile_options(ex.value)"
   ]
  },
  {
   "cell_type": "code",
   "execution_count": null,
   "metadata": {},
   "outputs": [],
   "source": [
    "rpo = fs.buttons.LoadedButton(description=\"Configure profiles\", value=X)\n",
    "rpo.on_click(fs.buttons.rpo)\n",
    "display(rpo)\n",
    "#X = fs.results.profile_options(X)"
   ]
  },
  {
   "cell_type": "code",
   "execution_count": null,
   "metadata": {},
   "outputs": [],
   "source": [
    "#def results_profile_plot(ex):    \n",
    "#    fs.results.profile_plot(ex.value)"
   ]
  },
  {
   "cell_type": "code",
   "execution_count": null,
   "metadata": {},
   "outputs": [],
   "source": [
    "rpp = fs.buttons.LoadedButton(description=\"plot profiles\", value=X)\n",
    "rpp.on_click(fs.buttons.rpp)\n",
    "display(rpp)\n",
    "#X = fs.results.profile_plot(X)"
   ]
  },
  {
   "cell_type": "code",
   "execution_count": null,
   "metadata": {},
   "outputs": [],
   "source": []
  }
 ],
 "metadata": {
  "kernelspec": {
   "display_name": "Python 3",
   "language": "python",
   "name": "python3"
  },
  "language_info": {
   "codemirror_mode": {
    "name": "ipython",
    "version": 3
   },
   "file_extension": ".py",
   "mimetype": "text/x-python",
   "name": "python",
   "nbconvert_exporter": "python",
   "pygments_lexer": "ipython3",
   "version": "3.6.6"
  }
 },
 "nbformat": 4,
 "nbformat_minor": 2
}
